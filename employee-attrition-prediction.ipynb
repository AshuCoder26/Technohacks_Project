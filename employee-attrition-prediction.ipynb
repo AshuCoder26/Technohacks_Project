{
 "cells": [
  {
   "cell_type": "markdown",
   "metadata": {
    "papermill": {
     "duration": 0.010955,
     "end_time": "2021-01-31T00:07:08.263972",
     "exception": false,
     "start_time": "2021-01-31T00:07:08.253017",
     "status": "completed"
    },
    "tags": []
   },
   "source": [
    "# Getting Started"
   ]
  },
  {
   "cell_type": "code",
   "execution_count": null,
   "metadata": {
    "execution": {
     "iopub.execute_input": "2021-01-31T00:07:08.288640Z",
     "iopub.status.busy": "2021-01-31T00:07:08.287539Z",
     "iopub.status.idle": "2021-01-31T00:07:09.524392Z",
     "shell.execute_reply": "2021-01-31T00:07:09.523516Z"
    },
    "papermill": {
     "duration": 1.250443,
     "end_time": "2021-01-31T00:07:09.524663",
     "exception": false,
     "start_time": "2021-01-31T00:07:08.274220",
     "status": "completed"
    },
    "tags": []
   },
   "outputs": [],
   "source": [
    "import numpy as np\n",
    "import pandas as pd\n",
    "pd.set_option('max_columns', None)\n",
    "\n",
    "from sklearn.model_selection import train_test_split\n",
    "from sklearn.preprocessing import StandardScaler\n",
    "\n",
    "from sklearn.linear_model import LogisticRegression\n",
    "from sklearn.neighbors import KNeighborsClassifier\n",
    "from sklearn.tree import DecisionTreeClassifier\n",
    "from sklearn.svm import LinearSVC, SVC\n",
    "from sklearn.neural_network import MLPClassifier\n",
    "from sklearn.ensemble import RandomForestClassifier, GradientBoostingClassifier"
   ]
  },
  {
   "cell_type": "code",
   "execution_count": null,
   "metadata": {
    "execution": {
     "iopub.execute_input": "2021-01-31T00:07:09.563441Z",
     "iopub.status.busy": "2021-01-31T00:07:09.562651Z",
     "iopub.status.idle": "2021-01-31T00:07:09.716863Z",
     "shell.execute_reply": "2021-01-31T00:07:09.716143Z"
    },
    "papermill": {
     "duration": 0.175953,
     "end_time": "2021-01-31T00:07:09.717035",
     "exception": false,
     "start_time": "2021-01-31T00:07:09.541082",
     "status": "completed"
    },
    "tags": []
   },
   "outputs": [],
   "source": [
    "data = pd.read_csv('../input/employee/train.csv')"
   ]
  },
  {
   "cell_type": "code",
   "execution_count": null,
   "metadata": {
    "execution": {
     "iopub.execute_input": "2021-01-31T00:07:09.779022Z",
     "iopub.status.busy": "2021-01-31T00:07:09.777887Z",
     "iopub.status.idle": "2021-01-31T00:07:09.836695Z",
     "shell.execute_reply": "2021-01-31T00:07:09.837355Z"
    },
    "papermill": {
     "duration": 0.104618,
     "end_time": "2021-01-31T00:07:09.837558",
     "exception": false,
     "start_time": "2021-01-31T00:07:09.732940",
     "status": "completed"
    },
    "tags": []
   },
   "outputs": [],
   "source": [
    "data"
   ]
  },
  {
   "cell_type": "code",
   "execution_count": null,
   "metadata": {
    "execution": {
     "iopub.execute_input": "2021-01-31T00:07:09.898866Z",
     "iopub.status.busy": "2021-01-31T00:07:09.888972Z",
     "iopub.status.idle": "2021-01-31T00:07:09.905574Z",
     "shell.execute_reply": "2021-01-31T00:07:09.904739Z"
    },
    "papermill": {
     "duration": 0.050066,
     "end_time": "2021-01-31T00:07:09.905764",
     "exception": false,
     "start_time": "2021-01-31T00:07:09.855698",
     "status": "completed"
    },
    "tags": []
   },
   "outputs": [],
   "source": [
    "data.info()"
   ]
  },
  {
   "cell_type": "markdown",
   "metadata": {
    "papermill": {
     "duration": 0.018491,
     "end_time": "2021-01-31T00:07:09.943330",
     "exception": false,
     "start_time": "2021-01-31T00:07:09.924839",
     "status": "completed"
    },
    "tags": []
   },
   "source": [
    "# Preprocessing"
   ]
  },
  {
   "cell_type": "code",
   "execution_count": null,
   "metadata": {
    "execution": {
     "iopub.execute_input": "2021-01-31T00:07:09.987627Z",
     "iopub.status.busy": "2021-01-31T00:07:09.986494Z",
     "iopub.status.idle": "2021-01-31T00:07:09.990469Z",
     "shell.execute_reply": "2021-01-31T00:07:09.991141Z"
    },
    "papermill": {
     "duration": 0.029237,
     "end_time": "2021-01-31T00:07:09.991340",
     "exception": false,
     "start_time": "2021-01-31T00:07:09.962103",
     "status": "completed"
    },
    "tags": []
   },
   "outputs": [],
   "source": [
    "def onehot_encode(df, column):\n",
    "    df = df.copy()\n",
    "    dummies = pd.get_dummies(df[column], prefix=column)\n",
    "    df = pd.concat([df, dummies], axis=1)\n",
    "    df = df.drop(column, axis=1)\n",
    "    return df"
   ]
  },
  {
   "cell_type": "code",
   "execution_count": null,
   "metadata": {
    "execution": {
     "iopub.execute_input": "2021-01-31T00:07:10.045023Z",
     "iopub.status.busy": "2021-01-31T00:07:10.044131Z",
     "iopub.status.idle": "2021-01-31T00:07:10.048741Z",
     "shell.execute_reply": "2021-01-31T00:07:10.048196Z"
    },
    "papermill": {
     "duration": 0.03854,
     "end_time": "2021-01-31T00:07:10.048879",
     "exception": false,
     "start_time": "2021-01-31T00:07:10.010339",
     "status": "completed"
    },
    "tags": []
   },
   "outputs": [],
   "source": [
    "def preprocess_inputs(df):\n",
    "    df = df.copy()\n",
    "    \n",
    "    # Drop single-value columns and id columns\n",
    "    df = df.drop(['EmployeeCount', 'EmployeeNumber', 'Over18', 'StandardHours'], axis=1)\n",
    "    \n",
    "    # Binary-encode binary columns\n",
    "    df['Gender'] = df['Gender'].replace({'Female': 0, 'Male': 1})\n",
    "    df['OverTime'] = df['OverTime'].replace({'No': 0, 'Yes': 1})\n",
    "    \n",
    "    # Ordinal-encode the BusinessTravel column\n",
    "    df['BusinessTravel'] = df['BusinessTravel'].replace({'Non-Travel': 0, 'Travel_Rarely': 1, 'Travel_Frequently': 2})\n",
    "    \n",
    "    # One-hot encoding\n",
    "    for column in ['Department', 'EducationField', 'JobRole', 'MaritalStatus']:\n",
    "        df = onehot_encode(df, column=column)\n",
    "    \n",
    "    # Split df into X and y\n",
    "    y = df['Attrition']\n",
    "    X = df.drop('Attrition', axis=1)\n",
    "    \n",
    "    # Train-test split\n",
    "    X_train, X_test, y_train, y_test = train_test_split(X, y, train_size=0.7, shuffle=True, random_state=1)\n",
    "    \n",
    "    # Scale X\n",
    "    scaler = StandardScaler()\n",
    "    scaler.fit(X_train)\n",
    "    X_train = pd.DataFrame(scaler.transform(X_train), index=X_train.index, columns=X_train.columns)\n",
    "    X_test = pd.DataFrame(scaler.transform(X_test), index=X_test.index, columns=X_test.columns)\n",
    "    \n",
    "    return X_train, X_test, y_train, y_test"
   ]
  },
  {
   "cell_type": "code",
   "execution_count": null,
   "metadata": {
    "execution": {
     "iopub.execute_input": "2021-01-31T00:07:10.077746Z",
     "iopub.status.busy": "2021-01-31T00:07:10.076789Z",
     "iopub.status.idle": "2021-01-31T00:07:10.125540Z",
     "shell.execute_reply": "2021-01-31T00:07:10.125000Z"
    },
    "papermill": {
     "duration": 0.064238,
     "end_time": "2021-01-31T00:07:10.125706",
     "exception": false,
     "start_time": "2021-01-31T00:07:10.061468",
     "status": "completed"
    },
    "tags": []
   },
   "outputs": [],
   "source": [
    "X_train, X_test, y_train, y_test = preprocess_inputs(data)"
   ]
  },
  {
   "cell_type": "code",
   "execution_count": null,
   "metadata": {
    "execution": {
     "iopub.execute_input": "2021-01-31T00:07:10.177865Z",
     "iopub.status.busy": "2021-01-31T00:07:10.172509Z",
     "iopub.status.idle": "2021-01-31T00:07:10.234644Z",
     "shell.execute_reply": "2021-01-31T00:07:10.234063Z"
    },
    "papermill": {
     "duration": 0.096525,
     "end_time": "2021-01-31T00:07:10.234795",
     "exception": false,
     "start_time": "2021-01-31T00:07:10.138270",
     "status": "completed"
    },
    "tags": []
   },
   "outputs": [],
   "source": [
    "X_train"
   ]
  },
  {
   "cell_type": "code",
   "execution_count": null,
   "metadata": {
    "execution": {
     "iopub.execute_input": "2021-01-31T00:07:10.270348Z",
     "iopub.status.busy": "2021-01-31T00:07:10.269503Z",
     "iopub.status.idle": "2021-01-31T00:07:10.272804Z",
     "shell.execute_reply": "2021-01-31T00:07:10.273441Z"
    },
    "papermill": {
     "duration": 0.024955,
     "end_time": "2021-01-31T00:07:10.273664",
     "exception": false,
     "start_time": "2021-01-31T00:07:10.248709",
     "status": "completed"
    },
    "tags": []
   },
   "outputs": [],
   "source": [
    "y_train"
   ]
  },
  {
   "cell_type": "markdown",
   "metadata": {
    "papermill": {
     "duration": 0.021587,
     "end_time": "2021-01-31T00:07:10.319053",
     "exception": false,
     "start_time": "2021-01-31T00:07:10.297466",
     "status": "completed"
    },
    "tags": []
   },
   "source": [
    "# Training"
   ]
  },
  {
   "cell_type": "code",
   "execution_count": null,
   "metadata": {
    "execution": {
     "iopub.execute_input": "2021-01-31T00:07:10.365942Z",
     "iopub.status.busy": "2021-01-31T00:07:10.365148Z",
     "iopub.status.idle": "2021-01-31T00:07:12.890797Z",
     "shell.execute_reply": "2021-01-31T00:07:12.890021Z"
    },
    "papermill": {
     "duration": 2.550016,
     "end_time": "2021-01-31T00:07:12.890969",
     "exception": false,
     "start_time": "2021-01-31T00:07:10.340953",
     "status": "completed"
    },
    "tags": []
   },
   "outputs": [],
   "source": [
    "models = {\n",
    "    \"                   Logistic Regression\": LogisticRegression(),\n",
    "    \"                   K-Nearest Neighbors\": KNeighborsClassifier(),\n",
    "    \"                         Decision Tree\": DecisionTreeClassifier(),\n",
    "    \"Support Vector Machine (Linear Kernel)\": LinearSVC(),\n",
    "    \"   Support Vector Machine (RBF Kernel)\": SVC(),\n",
    "    \"                        Neural Network\": MLPClassifier(),\n",
    "    \"                         Random Forest\": RandomForestClassifier(),\n",
    "    \"                     Gradient Boosting\": GradientBoostingClassifier()\n",
    "}\n",
    "\n",
    "for name, model in models.items():\n",
    "    model.fit(X_train, y_train)\n",
    "    print(name + \" trained.\")"
   ]
  },
  {
   "cell_type": "markdown",
   "metadata": {
    "papermill": {
     "duration": 0.02649,
     "end_time": "2021-01-31T00:07:12.943974",
     "exception": false,
     "start_time": "2021-01-31T00:07:12.917484",
     "status": "completed"
    },
    "tags": []
   },
   "source": [
    "# Results"
   ]
  },
  {
   "cell_type": "code",
   "execution_count": null,
   "metadata": {
    "execution": {
     "iopub.execute_input": "2021-01-31T00:07:13.011870Z",
     "iopub.status.busy": "2021-01-31T00:07:13.007413Z",
     "iopub.status.idle": "2021-01-31T00:07:13.128460Z",
     "shell.execute_reply": "2021-01-31T00:07:13.127867Z"
    },
    "papermill": {
     "duration": 0.157834,
     "end_time": "2021-01-31T00:07:13.128637",
     "exception": false,
     "start_time": "2021-01-31T00:07:12.970803",
     "status": "completed"
    },
    "tags": []
   },
   "outputs": [],
   "source": [
    "for name, model in models.items():\n",
    "    print(name + \": {:.2f}%\".format(model.score(X_test, y_test) * 100))"
   ]
  }
 ],
 "metadata": {
  "kernelspec": {
   "display_name": "Python 3",
   "language": "python",
   "name": "python3"
  },
  "language_info": {
   "codemirror_mode": {
    "name": "ipython",
    "version": 3
   },
   "file_extension": ".py",
   "mimetype": "text/x-python",
   "name": "python",
   "nbconvert_exporter": "python",
   "pygments_lexer": "ipython3",
   "version": "3.7.9"
  },
  "papermill": {
   "default_parameters": {},
   "duration": 12.594588,
   "end_time": "2021-01-31T00:07:13.994917",
   "environment_variables": {},
   "exception": null,
   "input_path": "__notebook__.ipynb",
   "output_path": "__notebook__.ipynb",
   "parameters": {},
   "start_time": "2021-01-31T00:07:01.400329",
   "version": "2.2.2"
  }
 },
 "nbformat": 4,
 "nbformat_minor": 4
}
